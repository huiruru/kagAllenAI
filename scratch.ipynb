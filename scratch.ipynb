{
 "cells": [
  {
   "cell_type": "code",
   "execution_count": 1,
   "metadata": {
    "collapsed": true
   },
   "outputs": [],
   "source": [
    "import pandas as pd\n",
    "import numpy as np\n",
    "from nltk.tokenize import *\n",
    "from nltk.corpus import wordnet as wn\n",
    "from nltk.wsd import lesk\n",
    "from nltk import word_tokenize, pos_tag, RegexpParser\n",
    "from nltk.corpus import stopwords\n",
    "import sys"
   ]
  },
  {
   "cell_type": "markdown",
   "metadata": {},
   "source": [
    "###import into pandas dataframe"
   ]
  },
  {
   "cell_type": "code",
   "execution_count": 2,
   "metadata": {
    "collapsed": true
   },
   "outputs": [],
   "source": [
    "rawdf = pd.read_csv('training_set.tsv', sep = '\\t')"
   ]
  },
  {
   "cell_type": "code",
   "execution_count": 7,
   "metadata": {
    "collapsed": false
   },
   "outputs": [],
   "source": [
    "# rawvaldf= pd.read_csv('validation_set.tsv', sep = '\\t')\n",
    "rawdf['question_sent'] = rawdf['question'].map(lambda x: sent_tokenize(x.decode(\"utf8\")))"
   ]
  },
  {
   "cell_type": "markdown",
   "metadata": {},
   "source": [
    "###1. Figure out which sentence out of the question text is a question\n",
    "###2. Look at all the questions and distinct grammar patterns to then load into a grammar file\n",
    "###3. This is so we can get a sense of the type of questions that can possibly appear and generalize"
   ]
  },
  {
   "cell_type": "code",
   "execution_count": null,
   "metadata": {
    "collapsed": true
   },
   "outputs": [],
   "source": [
    "##list of question key words and punctuation\n",
    "## todo: more sophisticated method\n",
    "qkeys = ['?', '__________', 'how', 'what', 'which', 'because']\n",
    "\n",
    "# q = 4\n",
    "\n",
    "print rawdf.question_sent[q]\n",
    "\n",
    "for x in rawdf.question_sent[q]:\n",
    "#     print x\n",
    "    for i in word_tokenize(x):\n",
    "        if i.lower() in qkeys:\n",
    "#             print i\n",
    "            t = rawdf.question_sent[q].index(x)\n",
    "        else:\n",
    "            t = None\n",
    "            \n",
    "if t is not None:\n",
    "    print '\\n',rawdf.question_sent[q][t]"
   ]
  },
  {
   "cell_type": "code",
   "execution_count": 178,
   "metadata": {
    "collapsed": true
   },
   "outputs": [],
   "source": [
    "def flatten(inputlist):\n",
    "    t_copy = word_tokenize(u' '.join(inputlist))\n",
    "    dups = list(set([x for x in t_copy if t_copy.count(x) > 1]))\n",
    "    for i in dups:\n",
    "        while i in inputlist:\n",
    "            inputlist.remove(i)\n",
    "    return inputlist"
   ]
  },
  {
   "cell_type": "code",
   "execution_count": null,
   "metadata": {
    "collapsed": true
   },
   "outputs": [],
   "source": [
    "i = 105\n",
    "print rawdf.question[i]\n",
    "rawdf[i:i+1]"
   ]
  }
 ],
 "metadata": {
  "kernelspec": {
   "display_name": "Python 2",
   "language": "python",
   "name": "python2"
  },
  "language_info": {
   "codemirror_mode": {
    "name": "ipython",
    "version": 2
   },
   "file_extension": ".py",
   "mimetype": "text/x-python",
   "name": "python",
   "nbconvert_exporter": "python",
   "pygments_lexer": "ipython2",
   "version": "2.7.10"
  }
 },
 "nbformat": 4,
 "nbformat_minor": 0
}
