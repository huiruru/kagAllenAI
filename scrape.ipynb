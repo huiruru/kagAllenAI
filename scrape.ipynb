{
 "cells": [
  {
   "cell_type": "code",
   "execution_count": 68,
   "metadata": {
    "collapsed": false
   },
   "outputs": [],
   "source": [
    "from HTMLParser import HTMLParser\n",
    "#from BeautifulSoup import BeautifulSoup as BS\n",
    "from bs4 import BeautifulSoup\n",
    "import re\n",
    "\n",
    "import pandas as pd"
   ]
  },
  {
   "cell_type": "code",
   "execution_count": 63,
   "metadata": {
    "collapsed": false
   },
   "outputs": [],
   "source": [
    "def normalize_text(text):\n",
    "    te = re.sub(\"\\s+|\\n\", \" \", text.strip())\n",
    "    te = te.encode('ascii','ignore')\n",
    "    return te;\n",
    "\n",
    "\n",
    "def find_fact_list(soup):\n",
    "    summary_points = []\n",
    "\n",
    "    h3s = soup.find_all(['h3'])\n",
    "    if h3s is not None:\n",
    "        for element in h3s:\n",
    "            if \"Summary\" == element.get_text().strip():\n",
    "                lst =  element.find_next_sibling(\"ul\")\n",
    "                children = lst.find_all(['li'])\n",
    "                for child in children:\n",
    "                    summary_points.append(normalize_text(child.get_text().strip()))\n",
    "    return summary_points"
   ]
  },
  {
   "cell_type": "code",
   "execution_count": 4,
   "metadata": {
    "collapsed": false
   },
   "outputs": [],
   "source": [
    "ckdata = open(\"Foundation/index.html\",'r').read()\n",
    "soup = BeautifulSoup(ckdata, 'html.parser')"
   ]
  },
  {
   "cell_type": "code",
   "execution_count": 14,
   "metadata": {
    "collapsed": false
   },
   "outputs": [],
   "source": [
    "h3s = soup.find_all(['h3'])"
   ]
  },
  {
   "cell_type": "code",
   "execution_count": 27,
   "metadata": {
    "collapsed": false
   },
   "outputs": [],
   "source": [
    "h1s = soup.findAll(\"div\",{\"class\":\"calibre\"})"
   ]
  },
  {
   "cell_type": "code",
   "execution_count": 64,
   "metadata": {
    "collapsed": false
   },
   "outputs": [],
   "source": [
    "entries = []\n",
    "# dict1 = {'Topic': urlnum, 'Issue': issue}\n",
    "for i in h1s:\n",
    "    h = i.find(['h1'])\n",
    "#     s = i.find_all(['h3'])\n",
    "    if h is not None:\n",
    "        topicname = h.get_text().strip()\n",
    "        summaries = find_fact_list(i)\n",
    "        dict1 = {'Topic':topicname, 'Summaries': summaries}\n",
    "        entries.append(dict1)\n",
    "    "
   ]
  },
  {
   "cell_type": "code",
   "execution_count": 69,
   "metadata": {
    "collapsed": false
   },
   "outputs": [],
   "source": [
    "ck12df = pd.DataFrame(entries) "
   ]
  },
  {
   "cell_type": "code",
   "execution_count": 70,
   "metadata": {
    "collapsed": false
   },
   "outputs": [],
   "source": [
    "ck12df.to_pickle('ckdata.pkl') "
   ]
  }
 ],
 "metadata": {
  "kernelspec": {
   "display_name": "Python 2",
   "language": "python",
   "name": "python2"
  },
  "language_info": {
   "codemirror_mode": {
    "name": "ipython",
    "version": 2
   },
   "file_extension": ".py",
   "mimetype": "text/x-python",
   "name": "python",
   "nbconvert_exporter": "python",
   "pygments_lexer": "ipython2",
   "version": "2.7.10"
  }
 },
 "nbformat": 4,
 "nbformat_minor": 0
}
