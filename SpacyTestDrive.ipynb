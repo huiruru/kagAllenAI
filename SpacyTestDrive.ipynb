{
 "cells": [
  {
   "cell_type": "code",
   "execution_count": 6,
   "metadata": {
    "collapsed": true
   },
   "outputs": [],
   "source": [
    "from spacy.en import English"
   ]
  },
  {
   "cell_type": "code",
   "execution_count": 7,
   "metadata": {
    "collapsed": false
   },
   "outputs": [],
   "source": [
    "nlp = English() "
   ]
  },
  {
   "cell_type": "code",
   "execution_count": 118,
   "metadata": {
    "collapsed": false
   },
   "outputs": [],
   "source": [
    "doc = nlp(u\"This is a sentence. Here's another cellular organism that will blow your mind. Hells yeah said Sally!\")"
   ]
  },
  {
   "cell_type": "code",
   "execution_count": 50,
   "metadata": {
    "collapsed": false
   },
   "outputs": [
    {
     "name": "stdout",
     "output_type": "stream",
     "text": [
      "(15729, u'She', '<--', u'sells')\n",
      "(15729, u'shells', '<--', u'sells')\n",
      "(15729, u'the seashore', '<--', u'by')\n"
     ]
    }
   ],
   "source": [
    "for chunk in doc.noun_chunks:\n",
    "    print(chunk.label, chunk.orth_, '<--', chunk.root.head.orth_)"
   ]
  },
  {
   "cell_type": "code",
   "execution_count": 57,
   "metadata": {
    "collapsed": false
   },
   "outputs": [
    {
     "name": "stdout",
     "output_type": "stream",
     "text": [
      "She \n",
      "sells \n",
      "shells \n",
      "by \n",
      "the \n",
      "seashore\n"
     ]
    }
   ],
   "source": [
    "for token in doc:\n",
    "#     print token.lemma\n",
    "#     print token.prob\n",
    "    print token.nbor(i=0)"
   ]
  },
  {
   "cell_type": "code",
   "execution_count": 66,
   "metadata": {
    "collapsed": false
   },
   "outputs": [
    {
     "data": {
      "text/plain": [
       "u'She sells shells by the seashore. this shall too pass'"
      ]
     },
     "execution_count": 66,
     "metadata": {},
     "output_type": "execute_result"
    }
   ],
   "source": [
    "span = doc[:]\n",
    "span.text"
   ]
  },
  {
   "cell_type": "code",
   "execution_count": 73,
   "metadata": {
    "collapsed": false
   },
   "outputs": [],
   "source": [
    "from spacy.parts_of_speech import ADV"
   ]
  },
  {
   "cell_type": "code",
   "execution_count": 89,
   "metadata": {
    "collapsed": true
   },
   "outputs": [],
   "source": [
    "tokens = nlp(u\"A bird that cannot fly is\", tag=True, parse=False)"
   ]
  },
  {
   "cell_type": "code",
   "execution_count": 106,
   "metadata": {
    "collapsed": false
   },
   "outputs": [
    {
     "name": "stdout",
     "output_type": "stream",
     "text": [
      "A \n",
      "bird \n",
      "that \n",
      "can\n",
      "not \n",
      "fly \n",
      "is\n"
     ]
    }
   ],
   "source": [
    "for t in tokens:\n",
    "#     print t.text,t.pos_, t.ent_iob, t.ent_type\n",
    "#     , t.subtree\n",
    "    for i in t.subtree:\n",
    "        print i\n",
    "# print u''.join(tok.string.upper() if tok.pos == ADV else tok.string for tok in tokens)"
   ]
  },
  {
   "cell_type": "code",
   "execution_count": 124,
   "metadata": {
    "collapsed": false
   },
   "outputs": [
    {
     "name": "stdout",
     "output_type": "stream",
     "text": [
      "This is a sentence.\n",
      "Here's another cellular organism that will blow your mind.\n",
      "Hells yeah said Sally!\n"
     ]
    }
   ],
   "source": [
    "for i in doc.sents:\n",
    "    print i\n",
    "#     for t in i:\n",
    "#         print t.is_oov"
   ]
  },
  {
   "cell_type": "code",
   "execution_count": 131,
   "metadata": {
    "collapsed": false
   },
   "outputs": [
    {
     "name": "stdout",
     "output_type": "stream",
     "text": [
      "Object `Token` not found.\n"
     ]
    }
   ],
   "source": [
    "?Token()"
   ]
  }
 ],
 "metadata": {
  "kernelspec": {
   "display_name": "Python 2",
   "language": "python",
   "name": "python2"
  },
  "language_info": {
   "codemirror_mode": {
    "name": "ipython",
    "version": 2
   },
   "file_extension": ".py",
   "mimetype": "text/x-python",
   "name": "python",
   "nbconvert_exporter": "python",
   "pygments_lexer": "ipython2",
   "version": "2.7.10"
  }
 },
 "nbformat": 4,
 "nbformat_minor": 0
}
