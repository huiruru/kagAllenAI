{
 "cells": [
  {
   "cell_type": "code",
   "execution_count": 1,
   "metadata": {
    "collapsed": true
   },
   "outputs": [],
   "source": [
    "from spacy.en import English\n",
    "import pandas as pd\n",
    "import os\n",
    "from nltk.tokenize import *"
   ]
  },
  {
   "cell_type": "code",
   "execution_count": 2,
   "metadata": {
    "collapsed": true
   },
   "outputs": [],
   "source": [
    "df = pd.read_pickle('ckdata.pkl')"
   ]
  },
  {
   "cell_type": "code",
   "execution_count": 3,
   "metadata": {
    "collapsed": false
   },
   "outputs": [
    {
     "data": {
      "text/html": [
       "<div>\n",
       "<table border=\"1\" class=\"dataframe\">\n",
       "  <thead>\n",
       "    <tr style=\"text-align: right;\">\n",
       "      <th></th>\n",
       "      <th>Summaries</th>\n",
       "      <th>Topic</th>\n",
       "    </tr>\n",
       "  </thead>\n",
       "  <tbody>\n",
       "    <tr>\n",
       "      <th>0</th>\n",
       "      <td>[Modern science is a way of understanding the ...</td>\n",
       "      <td>Introduction to Life Science</td>\n",
       "    </tr>\n",
       "    <tr>\n",
       "      <th>1</th>\n",
       "      <td>[Cells were first observed under a light micro...</td>\n",
       "      <td>Cell Biology</td>\n",
       "    </tr>\n",
       "    <tr>\n",
       "      <th>2</th>\n",
       "      <td>[DNA stores the genetic information of the cel...</td>\n",
       "      <td>Molecular Biology and Genetics</td>\n",
       "    </tr>\n",
       "    <tr>\n",
       "      <th>3</th>\n",
       "      <td>[Charles Darwin developed what we now call \"th...</td>\n",
       "      <td>Evolution</td>\n",
       "    </tr>\n",
       "    <tr>\n",
       "      <th>4</th>\n",
       "      <td>[Bacteria can be classified by their shape, in...</td>\n",
       "      <td>Prokaryotes</td>\n",
       "    </tr>\n",
       "  </tbody>\n",
       "</table>\n",
       "</div>"
      ],
      "text/plain": [
       "                                           Summaries  \\\n",
       "0  [Modern science is a way of understanding the ...   \n",
       "1  [Cells were first observed under a light micro...   \n",
       "2  [DNA stores the genetic information of the cel...   \n",
       "3  [Charles Darwin developed what we now call \"th...   \n",
       "4  [Bacteria can be classified by their shape, in...   \n",
       "\n",
       "                            Topic  \n",
       "0    Introduction to Life Science  \n",
       "1                    Cell Biology  \n",
       "2  Molecular Biology and Genetics  \n",
       "3                       Evolution  \n",
       "4                     Prokaryotes  "
      ]
     },
     "execution_count": 3,
     "metadata": {},
     "output_type": "execute_result"
    }
   ],
   "source": [
    "df.head()"
   ]
  },
  {
   "cell_type": "code",
   "execution_count": 4,
   "metadata": {
    "collapsed": true
   },
   "outputs": [],
   "source": [
    "nlp = English() "
   ]
  },
  {
   "cell_type": "code",
   "execution_count": 5,
   "metadata": {
    "collapsed": false
   },
   "outputs": [
    {
     "data": {
      "text/plain": [
       "['Modern science is a way of understanding the physical world, based on observable evidence, reasoning, and repeated testing.',\n",
       " 'To think like a scientist, you must ask questions, make detailed observations, develop a hypothesis, find answers using tests, and question your answers.',\n",
       " 'There are several subspecialties within the life sciences that focus on one type of organism, such as virology and bacteriology.',\n",
       " 'There are several fields of the life sciences that examine interactions between organisms and their environments, such as ecology.',\n",
       " 'Evidence is a direct, physical observation of something or a process.',\n",
       " 'Scientific theories are explanations of some aspect of the natural world based on repeated observations.',\n",
       " 'To study new problems, scientists use the scientific method; this includes making observations, forming a hypothesis, designing an experiment, and drawing conclusions.',\n",
       " 'Basic science, such as understanding how cells work, is research aimed at understanding fundamental problems.',\n",
       " 'Applied science, such as the medical field, is the application of basic scientific knowledge to solve practical problems.',\n",
       " 'Applied science uses and applies information obtained through basic science.',\n",
       " 'A microscope is a tool used to make things that are too small to be seen by the naked eye look bigger.',\n",
       " 'Types of microscopes include light microscopes, transmission electron microscopes (TEM), scanning electron microscopes (SEM), and scanning acoustic microscopes.',\n",
       " 'There are serious risks in scientific research, including carcinogens, biohazards, and toxins.',\n",
       " 'You need to carefully follow all safety rules while working in the laboratory.',\n",
       " 'Living things are called organisms.',\n",
       " 'All living organisms need energy to carry out life processes, are composed of one or more cells, respond to their environment, grow, reproduce, and maintain a stable internal environment.',\n",
       " 'Elements are substances that cannot be broken down into simpler substances with different properties.',\n",
       " 'Elements have been organized by their properties to form the periodic table.',\n",
       " 'Two or more atoms can combine to form a molecule.',\n",
       " 'Molecules consisting of more than one element are called compounds.',\n",
       " 'Reactants can combine through chemical reactions to form products.',\n",
       " 'Living organisms are comprised of organic compounds, molecules built around the element carbon.',\n",
       " 'Living things are made of just four classes of organic compounds: proteins, carbohydrates, lipids, and nucleic acids.',\n",
       " 'Scientists have defined several major categories for classifying organisms: domain, kingdom, phylum, class, order, family, genus, and species.',\n",
       " 'The scientific name of an organism consists of its genus and species.',\n",
       " 'All life can be classified into three domains: Bacteria, Archaea, and Eukarya.',\n",
       " 'Organisms in the domain Eukarya keep their genetic material in a nucleus and include the plants, animals, fungi, and protists.',\n",
       " 'A virus is composed of DNA or RNA surrounded by a coat of protein.',\n",
       " 'Viruses are not considered living things because they cannot reproduce on their own, and they are not comprised of cells.']"
      ]
     },
     "execution_count": 5,
     "metadata": {},
     "output_type": "execute_result"
    }
   ],
   "source": [
    "df.Summaries[0]"
   ]
  }
 ],
 "metadata": {
  "kernelspec": {
   "display_name": "Python 2",
   "language": "python",
   "name": "python2"
  },
  "language_info": {
   "codemirror_mode": {
    "name": "ipython",
    "version": 2
   },
   "file_extension": ".py",
   "mimetype": "text/x-python",
   "name": "python",
   "nbconvert_exporter": "python",
   "pygments_lexer": "ipython2",
   "version": "2.7.10"
  }
 },
 "nbformat": 4,
 "nbformat_minor": 0
}
